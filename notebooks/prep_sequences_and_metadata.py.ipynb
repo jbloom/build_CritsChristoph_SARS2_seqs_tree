{
 "cells": [
  {
   "cell_type": "markdown",
   "id": "1c67f5d8-be24-4433-9a5d-442708fabb76",
   "metadata": {},
   "source": [
    "# Prep sequences and metadata"
   ]
  },
  {
   "cell_type": "code",
   "execution_count": null,
   "id": "97040f36-213f-405d-95c5-ea9c71eadd0b",
   "metadata": {
    "tags": []
   },
   "outputs": [],
   "source": [
    "import Bio.SeqIO\n",
    "\n",
    "import pandas as pd"
   ]
  },
  {
   "cell_type": "code",
   "execution_count": null,
   "id": "11588099-ce5b-4f68-8d27-cbfdb5bd7209",
   "metadata": {
    "tags": []
   },
   "outputs": [],
   "source": [
    "# Get variables from `snakemake`\n",
    "seq_files = snakemake.input.seqs\n",
    "accession_info_csv = snakemake.input.accession_info\n",
    "output_sequences = snakemake.output.sequences\n",
    "output_metadata = snakemake.output.metadata"
   ]
  },
  {
   "cell_type": "code",
   "execution_count": null,
   "id": "1dc8712b-5d20-4ac7-97a7-dfcdd671923b",
   "metadata": {
    "tags": []
   },
   "outputs": [],
   "source": [
    "accession_info = pd.read_csv(accession_info_csv)\n",
    "assert len(accession_info) == accession_info[\"strain\"].nunique()\n",
    "accession_to_strain = accession_info.set_index(\"accession\")[\"strain\"].to_dict()\n",
    "strains = set(accession_info[\"strain\"])\n",
    "\n",
    "seqs = []\n",
    "strains_found = set()\n",
    "for seq_file in seq_files:\n",
    "    iseqs = list(Bio.SeqIO.parse(seq_file, \"fasta\"))\n",
    "    print(f\"Read {len(iseqs)} sequences from {seq_file}\")\n",
    "    for seq in iseqs:\n",
    "        if not (29000 <= len(seq) <= 31000):\n",
    "            raise ValueError(f\"{seq=} has invalid length {len(seq)}\")\n",
    "        seqid = seq.id.split(\"|\")[0].split(\".\")[0]\n",
    "        gisaid_id = seq.id.split(\"|\")[1] if \"|\" in seq.id else pd.NA\n",
    "        if seqid in strains:\n",
    "            strain = seqid\n",
    "        elif seqid in accession_to_strain and pd.notnull(seqid):\n",
    "            strain = accession_to_strain[seqid]\n",
    "        elif gisaid_id in accession_to_strain and pd.notnull(gisaid_id):\n",
    "            strain = accession_to_strain[gisaid_id]\n",
    "        else:\n",
    "            raise ValueError(f\"Cannot process {seqid=}, {seq=}\")\n",
    "        assert strain in strains, f\"{strain=}, {seq=}\"\n",
    "        seqs.append((strain, str(seq.seq)))\n",
    "        if strain in strains_found:\n",
    "            raise ValueError(f\"duplicate sequences for {strain=}\")\n",
    "        strains_found.add(strain)\n",
    "        \n",
    "print(f\"Overall processed {len(seqs)} sequences for the {len(accession_info)} accessions\")\n",
    "print(f\"The following accessions are missing sequences:\")\n",
    "display(accession_info.query(\"strain not in @strains_found\"))\n",
    "\n",
    "print(f\"Writing the sequences to {output_sequences}\")\n",
    "with open(output_sequences, \"w\") as f:\n",
    "    for head, seq in seqs:\n",
    "        f.write(f\">{head}\\n{seq}\\n\")\n",
    "\n",
    "print(f\"Writing the metadata to {output_metadata}\")\n",
    "accession_info.drop(columns=\"name\").query(\"strain in @strains_found\").to_csv(output_metadata, index=False, sep=\"\\t\")"
   ]
  },
  {
   "cell_type": "code",
   "execution_count": null,
   "id": "5f6de0ef-a174-4cb2-83c5-83a261f80b9e",
   "metadata": {},
   "outputs": [],
   "source": []
  }
 ],
 "metadata": {
  "kernelspec": {
   "display_name": "Python 3 (ipykernel)",
   "language": "python",
   "name": "python3"
  },
  "language_info": {
   "codemirror_mode": {
    "name": "ipython",
    "version": 3
   },
   "file_extension": ".py",
   "mimetype": "text/x-python",
   "name": "python",
   "nbconvert_exporter": "python",
   "pygments_lexer": "ipython3",
   "version": "3.10.15"
  }
 },
 "nbformat": 4,
 "nbformat_minor": 5
}
