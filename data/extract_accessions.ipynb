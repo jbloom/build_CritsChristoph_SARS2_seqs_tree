{
 "cells": [
  {
   "cell_type": "markdown",
   "id": "76056b7d-6b88-4d3a-bffa-424a506557e0",
   "metadata": {},
   "source": [
    "# Extract accessions from Table S1"
   ]
  },
  {
   "cell_type": "code",
   "execution_count": null,
   "id": "1d92f7df-1ed5-4de8-8f8e-085ca7b45b33",
   "metadata": {
    "tags": []
   },
   "outputs": [],
   "source": [
    "import pandas as pd\n",
    "\n",
    "df = (\n",
    "    pd.read_excel(\"Table_S1.xlsx\", sheet_name=\"Early SARS-CoV-2 genomes\")\n",
    "    .rename(columns={\"Genome name\": \"name\"})\n",
    "    .assign(\n",
    "        strain=lambda x: x[\"name\"].str.split(\"|\").str[0],\n",
    "        rest=lambda x: x[\"name\"].str.split(\"|\", n=1).str[1],\n",
    "        source=lambda x: x[\"rest\"].map(\n",
    "            lambda s: (\n",
    "                \"custom\" if \"|\" not in s else\n",
    "                (\"gisaid\" if s.startswith(\"EPI\") else (\"ngdc\" if s.startswith(\"NMDC\") else \"genbank\"))\n",
    "            )\n",
    "        ),\n",
    "        accession=lambda x: x[\"rest\"].str.split(\"|\").str[0].where(x[\"source\"] != \"custom\", pd.NA),\n",
    "        date=lambda x: pd.to_datetime(x[\"rest\"].str.split(\"|\").str[-1]),\n",
    "    )\n",
    "    .drop(columns=\"rest\")\n",
    ")\n",
    "\n",
    "df.to_csv(\"seq_metadata.csv\", index=False)\n",
    "\n",
    "for source, source_df in df.groupby(\"source\"):\n",
    "    source_df.to_csv(f\"{source}_accessions.csv\", index=False)"
   ]
  },
  {
   "cell_type": "code",
   "execution_count": null,
   "id": "bbc37b71-11ae-4820-8390-e58083711d9b",
   "metadata": {},
   "outputs": [],
   "source": []
  }
 ],
 "metadata": {
  "kernelspec": {
   "display_name": "Python 3 (ipykernel)",
   "language": "python",
   "name": "python3"
  },
  "language_info": {
   "codemirror_mode": {
    "name": "ipython",
    "version": 3
   },
   "file_extension": ".py",
   "mimetype": "text/x-python",
   "name": "python",
   "nbconvert_exporter": "python",
   "pygments_lexer": "ipython3",
   "version": "3.10.15"
  }
 },
 "nbformat": 4,
 "nbformat_minor": 5
}
